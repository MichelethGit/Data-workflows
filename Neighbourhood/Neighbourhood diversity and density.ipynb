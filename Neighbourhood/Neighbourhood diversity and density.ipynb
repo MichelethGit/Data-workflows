{
 "cells": [
  {
   "cell_type": "markdown",
   "id": "a6126d55-0b52-4712-b03a-941db7cee679",
   "metadata": {},
   "source": [
    "Site A:\n",
    "1) Tree Neighbourhood:"
   ]
  },
  {
   "cell_type": "code",
   "execution_count": null,
   "id": "9193cf77-f024-4b39-8185-308a29110633",
   "metadata": {},
   "outputs": [],
   "source": [
    "#Upload data \n",
    "#If you want to run code it R:\n",
    "install.packages(\"readxl\")\n",
    "library(readxl)\n",
    "#example\n",
    "SiteA_treeneighbours<-read_xlsx(\"C://Users//cm61imip//Desktop//PhD notes//Site A tree neighbourhood R.xlsx\")\n",
    "\n",
    "#Otherwise:\n",
    "SiteA_treeneighbours<-\"Site A tree neighbourhood R.csv\""
   ]
  },
  {
   "cell_type": "code",
   "execution_count": null,
   "id": "9535f18d-fe46-457a-b56f-4b8529c97232",
   "metadata": {},
   "outputs": [],
   "source": [
    "# make all M (missing) and D (dead)= NA\n",
    "SiteA_treeneighbours[SiteA_treeneighbours==\"M\"]<-NA\n",
    "SiteA_treeneighbours[SiteA_treeneighbours==\"D\"]<-NA\n",
    "library(dplyr)"
   ]
  },
  {
   "cell_type": "markdown",
   "id": "262c6081-28d2-41d6-b46e-6b1fca15d9d3",
   "metadata": {},
   "source": [
    "1.1) Tree Diversity:"
   ]
  },
  {
   "cell_type": "code",
   "execution_count": null,
   "id": "57119744-a2e7-4ff5-8a53-580e5fd86ccf",
   "metadata": {},
   "outputs": [],
   "source": [
    "# number of unique species (species richness)= diversity\n",
    "SiteA_treeneighbours<-SiteA_treeneighbours %>%\n",
    "  group_by(PLOT, TSQ_ID)\n",
    "n=(SiteA_treeneighbours[,c(3:14)])\n",
    "#n does not contain any unknown species\n",
    "library(dplyr)\n",
    "n2<-n %>%\n",
    "  rowwise() %>%\n",
    "  do(data.frame(., Count = n_distinct(na.omit(unlist(.)))))"
   ]
  },
  {
   "cell_type": "markdown",
   "id": "2c4e5293-92c8-4c1e-83f9-74ff76c162cd",
   "metadata": {},
   "source": [
    "1.2) Tree Density:"
   ]
  },
  {
   "cell_type": "code",
   "execution_count": null,
   "id": "e1eb9a42-86fd-427a-8bd5-77c334be451a",
   "metadata": {},
   "outputs": [],
   "source": [
    "n2$density<-rowSums(!is.na(n))\n",
    "\n",
    "SiteA_neightreediv<-data.frame(SiteA_treeneighbours, n2$Count, n2$density)\n",
    "colnames(SiteA_neightreediv)[16]<-\"diversity\"\n",
    "colnames(SiteA_neightreediv)[17]<-\"density\"\n",
    "# compare densities counted vs densities calculated in R:\n",
    "# D33, 0407, the density calculated by R is 5 instead of 4, because one species = DeaD. Therefore diversity will also be incorrect\n",
    "\n",
    "SiteA_treeneighbours[SiteA_treeneighbours==\"DeaD\"]<-NA\n",
    "#rerun\n",
    "#check a few examples if correct"
   ]
  },
  {
   "cell_type": "code",
   "execution_count": null,
   "id": "0a60f212-6476-456b-96fe-241f79ee990c",
   "metadata": {},
   "outputs": [],
   "source": [
    "#Save as excel sheet:\n",
    "library(writexl)\n",
    "write_xlsx(SiteA_neightreediv, \"Site A tree neighbourhood density and diversity.xlsx\")"
   ]
  },
  {
   "cell_type": "markdown",
   "id": "5e9ea34c-f43c-43e2-b248-bc6e6af983e2",
   "metadata": {},
   "source": [
    "2) Shrub Neighbourhood:"
   ]
  },
  {
   "cell_type": "code",
   "execution_count": null,
   "id": "3da26530-cc8b-4f46-b554-80641ee38755",
   "metadata": {},
   "outputs": [],
   "source": [
    "2.1) Shrub Diversity:"
   ]
  },
  {
   "cell_type": "code",
   "execution_count": null,
   "id": "585a0a83-99e4-4f13-b821-151dcf209307",
   "metadata": {},
   "outputs": [],
   "source": [
    "#upload csv from folder:\n",
    "SiteA_shrubneighbours<-\"Site A shrub neighbourhood R.csv\"\n",
    "\n",
    "#upload as excel sheet example\n",
    "SiteA_shrubneighbours<-read_xlsx(\"C://Users//cm61imip//Desktop//PhD notes//Site A shrub neighbourhood R.xlsx\")\n",
    "#number of unique shrub species =diversity\n",
    "SiteA_shrubneighbours<-SiteA_shrubneighbours %>%\n",
    "  group_by(plot, Shrub_ID)\n",
    "s=(SiteA_shrubneighbours[,c(3:10)])\n",
    "#excluding unknown species\n",
    "s[s==\"Unknown\"]<-NA\n",
    "s2<-s %>%\n",
    "  rowwise() %>%\n",
    "  do(data.frame(., Count = n_distinct(na.omit(unlist(.)))))"
   ]
  },
  {
   "cell_type": "markdown",
   "id": "c285dd76-8daf-47e9-86d4-46a116bbffdf",
   "metadata": {},
   "source": [
    "2.2) Shrub Density"
   ]
  },
  {
   "cell_type": "code",
   "execution_count": null,
   "id": "7632b67c-89ca-4b9e-836b-2c9bdb36e42a",
   "metadata": {},
   "outputs": [],
   "source": [
    "#density MUST include UNKNOWN species!\n",
    "alls<-(SiteA_shrubneighbours[,c(3:10)])\n",
    "s2$density<-rowSums(!is.na(alls))\n",
    "\n",
    "SiteA_neighshrubdiv<-data.frame(SiteA_shrubneighbours, s2$Count, s2$density)\n",
    "# compare densities counted vs densities calculated in R\n",
    "# only counting errors\n",
    "\n",
    "colnames(SiteA_neighshrubdiv)[12]<-\"diversity\"\n",
    "colnames(SiteA_neighshrubdiv)[13]<-\"calc density\"\n",
    "#check a few examples if correct"
   ]
  },
  {
   "cell_type": "code",
   "execution_count": null,
   "id": "ac756d2b-7a24-463f-83e7-a7568515c02f",
   "metadata": {},
   "outputs": [],
   "source": [
    "#save as excel sheet:\n",
    "write_xlsx(SiteA_neighshrubdiv, \"Site A shrub neighbourhood density and diversity.xlsx\")"
   ]
  },
  {
   "cell_type": "markdown",
   "id": "c877fe50-a07d-4087-a7f7-4d5fbdc3c439",
   "metadata": {},
   "source": [
    "Testing/Debugging:"
   ]
  },
  {
   "cell_type": "code",
   "execution_count": null,
   "id": "d571d92d-92ed-46b3-8b0e-8b0d805964ed",
   "metadata": {},
   "outputs": [],
   "source": [
    "###Site A shrub and tree neighbourhoods are different in the number of obervations i.e. TSQs...WHY?!\n",
    "SiteA_shrubneighbours$code<-paste(SiteA_shrubneighbours$plot, SiteA_shrubneighbours$Shrub_ID, sep = \"-\")\n",
    "SiteA_treeneighbours$code<-paste(SiteA_treeneighbours$PLOT, SiteA_treeneighbours$TSQ_ID, sep = \"-\")\n",
    "\n",
    "n1<-unique(SiteA_shrubneighbours$code)\n",
    "#102\n",
    "n2<-unique(SiteA_treeneighbours$code)\n",
    "#126\n",
    "# no duplicates, but some TSQs missing in shrub neighbourhoods...tree only plots??\n",
    "\n",
    "vect1<-unlist(n1)\n",
    "vect2<-unlist(n2)\n",
    "difs<-setdiff(vect1, vect2)\n",
    "print(difs)\n",
    "#first test\n",
    "## \"I19-0208\" \"Q20-0419\" \"L19-1706\" \"M19-0003\" \"M19-0102\" \"M19-0605\" \"M19-0709\" \"M19-1003\"\n",
    "## \"H29-0110\" \"H29-1314\" \"H29-1604\" \"H29-0205\" \"H29-1319\" \"H29-1606\"\n",
    "##L19, M19 and H29 are all NO SHRUB plots, therefore cannot do shrub neighbours\n",
    "#However, errors in I29 0208 and Q20 0419: manually corrected in excel sheets and rerun\n",
    "\n",
    "#2nd test\n",
    "#only differences are the TREE ONLY plots"
   ]
  },
  {
   "cell_type": "markdown",
   "id": "9b9c8563-528e-4bde-ab36-50dfa7e18212",
   "metadata": {},
   "source": [
    "Site B:\n",
    "1) Tree Neighbourhood"
   ]
  },
  {
   "cell_type": "code",
   "execution_count": null,
   "id": "3dbb1229-471a-4425-89c4-cc3d0a3d027d",
   "metadata": {},
   "outputs": [],
   "source": [
    "1.1) Tree Diversity"
   ]
  },
  {
   "cell_type": "code",
   "execution_count": null,
   "id": "1200b44f-abc2-4396-b413-af743f735cb1",
   "metadata": {},
   "outputs": [],
   "source": [
    "#Upload as csv file from folder:\n",
    "SiteB_treeneighbours<-\"Site B tree neighbourhood R.csv\"\n",
    "\n",
    "#Upload as excel sheet example\n",
    "SiteB_treeneighbours<-read_xlsx(\"C://Users//cm61imip//Desktop//PhD notes//Site B tree neighbourhood R.xlsx\")\n",
    "\n",
    "#make all Missing and Dead= NA\n",
    "SiteB_treeneighbours[SiteB_treeneighbours==\"M\"]<-NA\n",
    "SiteB_treeneighbours[SiteB_treeneighbours==\"D\"]<-NA\n",
    "SiteB_treeneighbours[SiteB_treeneighbours==\"NA\"]<-NA\n",
    "\n",
    "library(dplyr)\n",
    "# number of unique species = diversity\n",
    "SiteB_treeneighbours<-SiteB_treeneighbours %>%\n",
    "  group_by(Plot, TSQ_ID)\n",
    "b=(SiteB_treeneighbours[,c(3:14)])\n",
    "#b does not contain any unknown species\n",
    "library(dplyr)\n",
    "b2<-b %>%\n",
    "  rowwise() %>%\n",
    "  do(data.frame(., Count = n_distinct(na.omit(unlist(.)))))"
   ]
  },
  {
   "cell_type": "markdown",
   "id": "61f9b803-498b-44ad-a126-5aed40e1b955",
   "metadata": {},
   "source": [
    "1.2) Tree Density"
   ]
  },
  {
   "cell_type": "code",
   "execution_count": null,
   "id": "e0e7f321-c77a-4f91-8faf-837c000d02bc",
   "metadata": {},
   "outputs": [],
   "source": [
    "b2$density<-rowSums(!is.na(b))\n",
    "\n",
    "SiteB_neightreediv<-data.frame(SiteB_treeneighbours, b2$Count, b2$density)\n",
    "\n",
    "colnames(SiteB_neightreediv)[15]<-\"diversity\"\n",
    "colnames(SiteB_neightreediv)[16]<-\"density\"\n",
    "\n",
    "#check a few examples if correct\n",
    "#Save as excel sheet\n",
    "write_xlsx(SiteB_neightreediv, \"Site B tree neighbourhood diversity and density.xlsx\")"
   ]
  },
  {
   "cell_type": "markdown",
   "id": "64da37e0-21bc-4c1b-8653-ccc282f33676",
   "metadata": {},
   "source": [
    "2) Shrub Neighbourhood\n",
    "2.1) Shrub diversity:"
   ]
  },
  {
   "cell_type": "code",
   "execution_count": null,
   "id": "70761aa2-78ce-4eff-880e-9d0edde17995",
   "metadata": {},
   "outputs": [],
   "source": [
    "#Upload as csv from folder\n",
    "SiteB_shrubneighbours<-\"Site B shrub neighbourhood R.csv\"\n",
    "\n",
    "#Upload as excel sheet example\n",
    "SiteB_shrubneighbours<-read_xlsx(\"C://Users//cm61imip//Desktop//PhD notes//Site B shrub neighbourhood R.xlsx\")\n",
    "\n",
    "#number of unique shrub species =diversity\n",
    "#make all Missing and Dead= NA\n",
    "SiteB_shrubneighbours[SiteB_shrubneighbours==\"M\"]<-NA\n",
    "SiteB_shrubneighbours[SiteB_shrubneighbours==\"D\"]<-NA\n",
    "SiteB_shrubneighbours[SiteB_shrubneighbours==\"NA\"]<-NA\n",
    "\n",
    "SiteB_shrubneighbours<-SiteB_shrubneighbours %>%\n",
    "  group_by(plot, Shrub_ID)\n",
    "sB=(SiteB_shrubneighbours[,c(3:10)])\n",
    "#excluding unknown species\n",
    "sB[sB==\"Unknown\"]<-NA\n",
    "sB2<-sB %>%\n",
    "  rowwise() %>%\n",
    "  do(data.frame(., Count = n_distinct(na.omit(unlist(.)))))"
   ]
  },
  {
   "cell_type": "markdown",
   "id": "ea350cb6-db39-4b43-ad19-fed6fc834c9b",
   "metadata": {},
   "source": [
    "2.2) Shrub density:"
   ]
  },
  {
   "cell_type": "code",
   "execution_count": null,
   "id": "65b15c39-e1cb-4ae9-a6de-bd804fe81117",
   "metadata": {},
   "outputs": [],
   "source": [
    "#density MUST include UNKNOWN species!\n",
    "allsB<-(SiteB_shrubneighbours[,c(3:10)])\n",
    "sB2$density<-rowSums(!is.na(allsB))\n",
    "\n",
    "SiteB_neighshrubdiv<-data.frame(SiteB_shrubneighbours, sB2$Count, sB2$density)\n",
    "#check a few examples if correct\n",
    "\n",
    "#change headings of columns:\n",
    "colnames(SiteB_neighshrubdiv)[22]<-\"diversity\"\n",
    "colnames(SiteB_neighshrubdiv)[23]<-\"density\"\n",
    "\n",
    "#Save as excel sheet:\n",
    "library(writexl)\n",
    "write_xlsx(SiteB_neighshrubdiv, \"Site B shrub neighbourhood density and diversity.xlsx\")"
   ]
  },
  {
   "cell_type": "markdown",
   "id": "1e03144f-89d1-4a3f-bba7-188035f2bd2b",
   "metadata": {},
   "source": [
    "Testing and Debugging:"
   ]
  },
  {
   "cell_type": "code",
   "execution_count": null,
   "id": "915dccc0-e43a-4042-a1f3-65ddb8175106",
   "metadata": {},
   "outputs": [],
   "source": [
    "# Site B the shrub and tree heighbourhoods have the same numnber of observations initially, i.e. 133\n",
    "# Yet this is not possible, since TREE ONLY plots cannot have shrub neighbourhoods\n",
    "# However, this is probably due to NAs in original input file that is counted as observations\n",
    "\n",
    "#test1:\n",
    "\n",
    "SiteB_shrubneighbours$code<-paste(SiteB_shrubneighbours$plot, SiteB_shrubneighbours$Shrub_ID, sep = \"-\")\n",
    "SiteB_treeneighbours$code<-paste(SiteB_treeneighbours$Plot, SiteB_treeneighbours$TSQ_ID, sep = \"-\")\n",
    "\n",
    "n3<-unique(SiteB_shrubneighbours$code)\n",
    "#133\n",
    "n4<-unique(SiteB_treeneighbours$code)\n",
    "#133\n",
    "\n",
    "vect3<-unlist(n3)\n",
    "vect4<-unlist(n4)\n",
    "difs<-setdiff(vect3, vect4)\n",
    "print(difs)\n",
    "#first test\n",
    "# [1] \"M8-1717\"  \"U29-1111\" \"U29-1003\" \"U29-1116\" \"O26-1716\" \"T22-1915\"\n",
    "# same lengths but not identical coordinates\n",
    "# typos changed in input files, re-uploaded and reran\n",
    "#2nd test: NO differences"
   ]
  }
 ],
 "metadata": {
  "kernelspec": {
   "display_name": "R",
   "language": "R",
   "name": "ir"
  },
  "language_info": {
   "codemirror_mode": "r",
   "file_extension": ".r",
   "mimetype": "text/x-r-source",
   "name": "R",
   "pygments_lexer": "r",
   "version": "4.1.2"
  }
 },
 "nbformat": 4,
 "nbformat_minor": 5
}
