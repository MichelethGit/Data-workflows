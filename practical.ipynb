{
 "cells": [
  {
   "cell_type": "code",
   "execution_count": 4,
   "id": "1b2b6dbf-379c-436c-bdb8-1150d4e44ae6",
   "metadata": {
    "collapsed": true,
    "jupyter": {
     "outputs_hidden": true
    },
    "scrolled": true
   },
   "outputs": [
    {
     "name": "stderr",
     "output_type": "stream",
     "text": [
      "Installing package into ‘/home/student09/R/x86_64-pc-linux-gnu-library/4.1’\n",
      "(as ‘lib’ is unspecified)\n",
      "\n",
      "also installing the dependency ‘ragg’\n",
      "\n",
      "\n",
      "Warning message in install.packages(\"tidyverse\"):\n",
      "“installation of package ‘ragg’ had non-zero exit status”\n",
      "Warning message in system(\"timedatectl\", intern = TRUE):\n",
      "“running command 'timedatectl' had status 1”\n",
      "── \u001b[1mAttaching core tidyverse packages\u001b[22m ──────────────────────── tidyverse 2.0.0 ──\n",
      "\u001b[32m✔\u001b[39m \u001b[34mforcats  \u001b[39m 1.0.0     \u001b[32m✔\u001b[39m \u001b[34mreadr    \u001b[39m 2.1.5\n",
      "\u001b[32m✔\u001b[39m \u001b[34mggplot2  \u001b[39m 3.5.1     \u001b[32m✔\u001b[39m \u001b[34mstringr  \u001b[39m 1.5.1\n",
      "\u001b[32m✔\u001b[39m \u001b[34mlubridate\u001b[39m 1.9.3     \u001b[32m✔\u001b[39m \u001b[34mtibble   \u001b[39m 3.2.1\n",
      "\u001b[32m✔\u001b[39m \u001b[34mpurrr    \u001b[39m 1.0.2     \u001b[32m✔\u001b[39m \u001b[34mtidyr    \u001b[39m 1.3.1\n",
      "── \u001b[1mConflicts\u001b[22m ────────────────────────────────────────── tidyverse_conflicts() ──\n",
      "\u001b[31m✖\u001b[39m \u001b[34mdplyr\u001b[39m::\u001b[32mfilter()\u001b[39m masks \u001b[34mstats\u001b[39m::filter()\n",
      "\u001b[31m✖\u001b[39m \u001b[34mdplyr\u001b[39m::\u001b[32mlag()\u001b[39m    masks \u001b[34mstats\u001b[39m::lag()\n",
      "\u001b[36mℹ\u001b[39m Use the conflicted package (\u001b[3m\u001b[34m<http://conflicted.r-lib.org/>\u001b[39m\u001b[23m) to force all conflicts to become errors\n"
     ]
    }
   ],
   "source": [
    "gbif_bioclim<-read.csv(\"gbif_bioclim.csv\")\n",
    "try_reduced<-read.csv(\"try_reduced.csv\")\n",
    "install.packages(\"tidyverse\")\n",
    "library(tidyverse)"
   ]
  },
  {
   "cell_type": "code",
   "execution_count": 5,
   "id": "b42b25e8-5cf3-4dd5-943e-6e1d355e0582",
   "metadata": {
    "collapsed": true,
    "jupyter": {
     "outputs_hidden": true
    },
    "scrolled": true
   },
   "outputs": [
    {
     "data": {
      "text/html": [
       "<table class=\"dataframe\">\n",
       "<caption>A data.frame: 6 × 24</caption>\n",
       "<thead>\n",
       "\t<tr><th></th><th scope=col>scientific_name</th><th scope=col>country_code</th><th scope=col>species</th><th scope=col>x</th><th scope=col>y</th><th scope=col>bio1</th><th scope=col>bio2</th><th scope=col>bio3</th><th scope=col>bio4</th><th scope=col>bio5</th><th scope=col>⋯</th><th scope=col>bio10</th><th scope=col>bio11</th><th scope=col>bio12</th><th scope=col>bio13</th><th scope=col>bio14</th><th scope=col>bio15</th><th scope=col>bio16</th><th scope=col>bio17</th><th scope=col>bio18</th><th scope=col>bio19</th></tr>\n",
       "\t<tr><th></th><th scope=col>&lt;chr&gt;</th><th scope=col>&lt;chr&gt;</th><th scope=col>&lt;chr&gt;</th><th scope=col>&lt;dbl&gt;</th><th scope=col>&lt;dbl&gt;</th><th scope=col>&lt;dbl&gt;</th><th scope=col>&lt;dbl&gt;</th><th scope=col>&lt;dbl&gt;</th><th scope=col>&lt;dbl&gt;</th><th scope=col>&lt;dbl&gt;</th><th scope=col>⋯</th><th scope=col>&lt;dbl&gt;</th><th scope=col>&lt;dbl&gt;</th><th scope=col>&lt;dbl&gt;</th><th scope=col>&lt;dbl&gt;</th><th scope=col>&lt;dbl&gt;</th><th scope=col>&lt;dbl&gt;</th><th scope=col>&lt;dbl&gt;</th><th scope=col>&lt;dbl&gt;</th><th scope=col>&lt;dbl&gt;</th><th scope=col>&lt;dbl&gt;</th></tr>\n",
       "</thead>\n",
       "<tbody>\n",
       "\t<tr><th scope=row>1</th><td>Quercus robur L.         </td><td>DE</td><td>Quercus robur    </td><td>13.197520</td><td>52.48053</td><td>282.8060</td><td>11.56009</td><td>23.40577</td><td>697.0049</td><td>301.5184</td><td>⋯</td><td>290.7341</td><td>275.1877</td><td>0.6891775</td><td>0.2492599</td><td>0.0022743340</td><td>4.280466</td><td> 9.223780</td><td> 7.968918</td><td> 9.223780</td><td> 8.198037</td></tr>\n",
       "\t<tr><th scope=row>2</th><td>Fagus sylvatica L.       </td><td>DE</td><td>Fagus sylvatica  </td><td>10.635290</td><td>52.13933</td><td>282.2700</td><td>11.56496</td><td>24.08731</td><td>652.6573</td><td>300.2569</td><td>⋯</td><td>289.7771</td><td>275.1406</td><td>0.7945873</td><td>0.2119986</td><td>0.0041780071</td><td>3.993065</td><td>10.366795</td><td> 9.318233</td><td>10.366795</td><td> 9.613353</td></tr>\n",
       "\t<tr><th scope=row>3</th><td>Quercus palustris Münchh.</td><td>DE</td><td>Quercus palustris</td><td>12.388285</td><td>51.36412</td><td>282.7631</td><td>11.80689</td><td>23.66432</td><td>689.1375</td><td>300.6205</td><td>⋯</td><td>290.6756</td><td>275.2898</td><td>0.7198712</td><td>0.1815318</td><td>0.0009142933</td><td>3.985592</td><td> 9.298201</td><td> 8.278377</td><td> 9.298201</td><td> 8.949971</td></tr>\n",
       "\t<tr><th scope=row>4</th><td>Quercus robur L.         </td><td>DE</td><td>Quercus robur    </td><td>12.510908</td><td>50.72724</td><td>281.6990</td><td>12.49376</td><td>31.00520</td><td>682.9493</td><td>299.1687</td><td>⋯</td><td>289.4790</td><td>274.2594</td><td>0.9505705</td><td>0.2147094</td><td>0.0017349567</td><td>3.853150</td><td>12.087655</td><td>11.246518</td><td>12.087655</td><td>11.700603</td></tr>\n",
       "\t<tr><th scope=row>5</th><td>Fagus sylvatica L.       </td><td>DE</td><td>Fagus sylvatica  </td><td> 9.592076</td><td>51.47528</td><td>281.8596</td><td>11.29835</td><td>28.98178</td><td>635.9584</td><td>299.1519</td><td>⋯</td><td>289.1873</td><td>274.9467</td><td>0.8459014</td><td>0.2779124</td><td>0.0020681862</td><td>3.920097</td><td>10.731586</td><td>10.196636</td><td>10.731586</td><td>10.449787</td></tr>\n",
       "\t<tr><th scope=row>6</th><td>Quercus robur L.         </td><td>DE</td><td>Quercus robur    </td><td>12.791288</td><td>53.45432</td><td>282.0240</td><td>10.56826</td><td>22.84456</td><td>674.8423</td><td>299.6821</td><td>⋯</td><td>289.7753</td><td>274.4990</td><td>0.7309243</td><td>0.2611389</td><td>0.0026327982</td><td>4.086557</td><td> 9.681484</td><td> 8.469324</td><td> 9.681484</td><td> 8.544147</td></tr>\n",
       "</tbody>\n",
       "</table>\n"
      ],
      "text/latex": [
       "A data.frame: 6 × 24\n",
       "\\begin{tabular}{r|lllllllllllllllllllll}\n",
       "  & scientific\\_name & country\\_code & species & x & y & bio1 & bio2 & bio3 & bio4 & bio5 & ⋯ & bio10 & bio11 & bio12 & bio13 & bio14 & bio15 & bio16 & bio17 & bio18 & bio19\\\\\n",
       "  & <chr> & <chr> & <chr> & <dbl> & <dbl> & <dbl> & <dbl> & <dbl> & <dbl> & <dbl> & ⋯ & <dbl> & <dbl> & <dbl> & <dbl> & <dbl> & <dbl> & <dbl> & <dbl> & <dbl> & <dbl>\\\\\n",
       "\\hline\n",
       "\t1 & Quercus robur L.          & DE & Quercus robur     & 13.197520 & 52.48053 & 282.8060 & 11.56009 & 23.40577 & 697.0049 & 301.5184 & ⋯ & 290.7341 & 275.1877 & 0.6891775 & 0.2492599 & 0.0022743340 & 4.280466 &  9.223780 &  7.968918 &  9.223780 &  8.198037\\\\\n",
       "\t2 & Fagus sylvatica L.        & DE & Fagus sylvatica   & 10.635290 & 52.13933 & 282.2700 & 11.56496 & 24.08731 & 652.6573 & 300.2569 & ⋯ & 289.7771 & 275.1406 & 0.7945873 & 0.2119986 & 0.0041780071 & 3.993065 & 10.366795 &  9.318233 & 10.366795 &  9.613353\\\\\n",
       "\t3 & Quercus palustris Münchh. & DE & Quercus palustris & 12.388285 & 51.36412 & 282.7631 & 11.80689 & 23.66432 & 689.1375 & 300.6205 & ⋯ & 290.6756 & 275.2898 & 0.7198712 & 0.1815318 & 0.0009142933 & 3.985592 &  9.298201 &  8.278377 &  9.298201 &  8.949971\\\\\n",
       "\t4 & Quercus robur L.          & DE & Quercus robur     & 12.510908 & 50.72724 & 281.6990 & 12.49376 & 31.00520 & 682.9493 & 299.1687 & ⋯ & 289.4790 & 274.2594 & 0.9505705 & 0.2147094 & 0.0017349567 & 3.853150 & 12.087655 & 11.246518 & 12.087655 & 11.700603\\\\\n",
       "\t5 & Fagus sylvatica L.        & DE & Fagus sylvatica   &  9.592076 & 51.47528 & 281.8596 & 11.29835 & 28.98178 & 635.9584 & 299.1519 & ⋯ & 289.1873 & 274.9467 & 0.8459014 & 0.2779124 & 0.0020681862 & 3.920097 & 10.731586 & 10.196636 & 10.731586 & 10.449787\\\\\n",
       "\t6 & Quercus robur L.          & DE & Quercus robur     & 12.791288 & 53.45432 & 282.0240 & 10.56826 & 22.84456 & 674.8423 & 299.6821 & ⋯ & 289.7753 & 274.4990 & 0.7309243 & 0.2611389 & 0.0026327982 & 4.086557 &  9.681484 &  8.469324 &  9.681484 &  8.544147\\\\\n",
       "\\end{tabular}\n"
      ],
      "text/markdown": [
       "\n",
       "A data.frame: 6 × 24\n",
       "\n",
       "| <!--/--> | scientific_name &lt;chr&gt; | country_code &lt;chr&gt; | species &lt;chr&gt; | x &lt;dbl&gt; | y &lt;dbl&gt; | bio1 &lt;dbl&gt; | bio2 &lt;dbl&gt; | bio3 &lt;dbl&gt; | bio4 &lt;dbl&gt; | bio5 &lt;dbl&gt; | ⋯ ⋯ | bio10 &lt;dbl&gt; | bio11 &lt;dbl&gt; | bio12 &lt;dbl&gt; | bio13 &lt;dbl&gt; | bio14 &lt;dbl&gt; | bio15 &lt;dbl&gt; | bio16 &lt;dbl&gt; | bio17 &lt;dbl&gt; | bio18 &lt;dbl&gt; | bio19 &lt;dbl&gt; |\n",
       "|---|---|---|---|---|---|---|---|---|---|---|---|---|---|---|---|---|---|---|---|---|---|\n",
       "| 1 | Quercus robur L.          | DE | Quercus robur     | 13.197520 | 52.48053 | 282.8060 | 11.56009 | 23.40577 | 697.0049 | 301.5184 | ⋯ | 290.7341 | 275.1877 | 0.6891775 | 0.2492599 | 0.0022743340 | 4.280466 |  9.223780 |  7.968918 |  9.223780 |  8.198037 |\n",
       "| 2 | Fagus sylvatica L.        | DE | Fagus sylvatica   | 10.635290 | 52.13933 | 282.2700 | 11.56496 | 24.08731 | 652.6573 | 300.2569 | ⋯ | 289.7771 | 275.1406 | 0.7945873 | 0.2119986 | 0.0041780071 | 3.993065 | 10.366795 |  9.318233 | 10.366795 |  9.613353 |\n",
       "| 3 | Quercus palustris Münchh. | DE | Quercus palustris | 12.388285 | 51.36412 | 282.7631 | 11.80689 | 23.66432 | 689.1375 | 300.6205 | ⋯ | 290.6756 | 275.2898 | 0.7198712 | 0.1815318 | 0.0009142933 | 3.985592 |  9.298201 |  8.278377 |  9.298201 |  8.949971 |\n",
       "| 4 | Quercus robur L.          | DE | Quercus robur     | 12.510908 | 50.72724 | 281.6990 | 12.49376 | 31.00520 | 682.9493 | 299.1687 | ⋯ | 289.4790 | 274.2594 | 0.9505705 | 0.2147094 | 0.0017349567 | 3.853150 | 12.087655 | 11.246518 | 12.087655 | 11.700603 |\n",
       "| 5 | Fagus sylvatica L.        | DE | Fagus sylvatica   |  9.592076 | 51.47528 | 281.8596 | 11.29835 | 28.98178 | 635.9584 | 299.1519 | ⋯ | 289.1873 | 274.9467 | 0.8459014 | 0.2779124 | 0.0020681862 | 3.920097 | 10.731586 | 10.196636 | 10.731586 | 10.449787 |\n",
       "| 6 | Quercus robur L.          | DE | Quercus robur     | 12.791288 | 53.45432 | 282.0240 | 10.56826 | 22.84456 | 674.8423 | 299.6821 | ⋯ | 289.7753 | 274.4990 | 0.7309243 | 0.2611389 | 0.0026327982 | 4.086557 |  9.681484 |  8.469324 |  9.681484 |  8.544147 |\n",
       "\n"
      ],
      "text/plain": [
       "  scientific_name           country_code species           x         y       \n",
       "1 Quercus robur L.          DE           Quercus robur     13.197520 52.48053\n",
       "2 Fagus sylvatica L.        DE           Fagus sylvatica   10.635290 52.13933\n",
       "3 Quercus palustris Münchh. DE           Quercus palustris 12.388285 51.36412\n",
       "4 Quercus robur L.          DE           Quercus robur     12.510908 50.72724\n",
       "5 Fagus sylvatica L.        DE           Fagus sylvatica    9.592076 51.47528\n",
       "6 Quercus robur L.          DE           Quercus robur     12.791288 53.45432\n",
       "  bio1     bio2     bio3     bio4     bio5     ⋯ bio10    bio11    bio12    \n",
       "1 282.8060 11.56009 23.40577 697.0049 301.5184 ⋯ 290.7341 275.1877 0.6891775\n",
       "2 282.2700 11.56496 24.08731 652.6573 300.2569 ⋯ 289.7771 275.1406 0.7945873\n",
       "3 282.7631 11.80689 23.66432 689.1375 300.6205 ⋯ 290.6756 275.2898 0.7198712\n",
       "4 281.6990 12.49376 31.00520 682.9493 299.1687 ⋯ 289.4790 274.2594 0.9505705\n",
       "5 281.8596 11.29835 28.98178 635.9584 299.1519 ⋯ 289.1873 274.9467 0.8459014\n",
       "6 282.0240 10.56826 22.84456 674.8423 299.6821 ⋯ 289.7753 274.4990 0.7309243\n",
       "  bio13     bio14        bio15    bio16     bio17     bio18     bio19    \n",
       "1 0.2492599 0.0022743340 4.280466  9.223780  7.968918  9.223780  8.198037\n",
       "2 0.2119986 0.0041780071 3.993065 10.366795  9.318233 10.366795  9.613353\n",
       "3 0.1815318 0.0009142933 3.985592  9.298201  8.278377  9.298201  8.949971\n",
       "4 0.2147094 0.0017349567 3.853150 12.087655 11.246518 12.087655 11.700603\n",
       "5 0.2779124 0.0020681862 3.920097 10.731586 10.196636 10.731586 10.449787\n",
       "6 0.2611389 0.0026327982 4.086557  9.681484  8.469324  9.681484  8.544147"
      ]
     },
     "metadata": {},
     "output_type": "display_data"
    },
    {
     "data": {
      "text/html": [
       "<table class=\"dataframe\">\n",
       "<caption>A data.frame: 6 × 5</caption>\n",
       "<thead>\n",
       "\t<tr><th></th><th scope=col>x</th><th scope=col>species</th><th scope=col>trait_name</th><th scope=col>std_value</th><th scope=col>unit_name</th></tr>\n",
       "\t<tr><th></th><th scope=col>&lt;int&gt;</th><th scope=col>&lt;chr&gt;</th><th scope=col>&lt;chr&gt;</th><th scope=col>&lt;dbl&gt;</th><th scope=col>&lt;chr&gt;</th></tr>\n",
       "</thead>\n",
       "<tbody>\n",
       "\t<tr><th scope=row>1</th><td>1</td><td>Castanea sativa </td><td>Seed dry mass</td><td>1433.000</td><td>mg</td></tr>\n",
       "\t<tr><th scope=row>2</th><td>2</td><td>Fagus sylvatica </td><td>Seed dry mass</td><td> 158.000</td><td>mg</td></tr>\n",
       "\t<tr><th scope=row>3</th><td>3</td><td>Larix decidua   </td><td>Seed dry mass</td><td>   6.244</td><td>mg</td></tr>\n",
       "\t<tr><th scope=row>4</th><td>4</td><td>Picea sitchensis</td><td>Seed dry mass</td><td>   2.940</td><td>mg</td></tr>\n",
       "\t<tr><th scope=row>5</th><td>5</td><td>Pinus sylvestris</td><td>Seed dry mass</td><td>   6.190</td><td>mg</td></tr>\n",
       "\t<tr><th scope=row>6</th><td>6</td><td>Quercus cerris  </td><td>Seed dry mass</td><td>1900.000</td><td>mg</td></tr>\n",
       "</tbody>\n",
       "</table>\n"
      ],
      "text/latex": [
       "A data.frame: 6 × 5\n",
       "\\begin{tabular}{r|lllll}\n",
       "  & x & species & trait\\_name & std\\_value & unit\\_name\\\\\n",
       "  & <int> & <chr> & <chr> & <dbl> & <chr>\\\\\n",
       "\\hline\n",
       "\t1 & 1 & Castanea sativa  & Seed dry mass & 1433.000 & mg\\\\\n",
       "\t2 & 2 & Fagus sylvatica  & Seed dry mass &  158.000 & mg\\\\\n",
       "\t3 & 3 & Larix decidua    & Seed dry mass &    6.244 & mg\\\\\n",
       "\t4 & 4 & Picea sitchensis & Seed dry mass &    2.940 & mg\\\\\n",
       "\t5 & 5 & Pinus sylvestris & Seed dry mass &    6.190 & mg\\\\\n",
       "\t6 & 6 & Quercus cerris   & Seed dry mass & 1900.000 & mg\\\\\n",
       "\\end{tabular}\n"
      ],
      "text/markdown": [
       "\n",
       "A data.frame: 6 × 5\n",
       "\n",
       "| <!--/--> | x &lt;int&gt; | species &lt;chr&gt; | trait_name &lt;chr&gt; | std_value &lt;dbl&gt; | unit_name &lt;chr&gt; |\n",
       "|---|---|---|---|---|---|\n",
       "| 1 | 1 | Castanea sativa  | Seed dry mass | 1433.000 | mg |\n",
       "| 2 | 2 | Fagus sylvatica  | Seed dry mass |  158.000 | mg |\n",
       "| 3 | 3 | Larix decidua    | Seed dry mass |    6.244 | mg |\n",
       "| 4 | 4 | Picea sitchensis | Seed dry mass |    2.940 | mg |\n",
       "| 5 | 5 | Pinus sylvestris | Seed dry mass |    6.190 | mg |\n",
       "| 6 | 6 | Quercus cerris   | Seed dry mass | 1900.000 | mg |\n",
       "\n"
      ],
      "text/plain": [
       "  x species          trait_name    std_value unit_name\n",
       "1 1 Castanea sativa  Seed dry mass 1433.000  mg       \n",
       "2 2 Fagus sylvatica  Seed dry mass  158.000  mg       \n",
       "3 3 Larix decidua    Seed dry mass    6.244  mg       \n",
       "4 4 Picea sitchensis Seed dry mass    2.940  mg       \n",
       "5 5 Pinus sylvestris Seed dry mass    6.190  mg       \n",
       "6 6 Quercus cerris   Seed dry mass 1900.000  mg       "
      ]
     },
     "metadata": {},
     "output_type": "display_data"
    }
   ],
   "source": [
    "try_reduced_clean<-janitor::clean_names(try_reduced)\n",
    "colnames(try_reduced_clean)[2]<-paste(\"species\")\n",
    "gbif_bioclim_clean<-janitor::clean_names(gbif_bioclim)\n",
    "head(gbif_bioclim_clean)\n",
    "head(try_reduced_clean)"
   ]
  },
  {
   "cell_type": "code",
   "execution_count": 6,
   "id": "dd601c97-d7c6-4a3e-935f-3952b191e067",
   "metadata": {},
   "outputs": [
    {
     "name": "stderr",
     "output_type": "stream",
     "text": [
      "Warning message:\n",
      "“\u001b[1m\u001b[22mReturning more (or less) than 1 row per `summarise()` group was deprecated in\n",
      "dplyr 1.1.0.\n",
      "\u001b[36mℹ\u001b[39m Please use `reframe()` instead.\n",
      "\u001b[36mℹ\u001b[39m When switching from `summarise()` to `reframe()`, remember that `reframe()`\n",
      "  always returns an ungrouped data frame and adjust accordingly.”\n",
      "\u001b[1m\u001b[22m`summarise()` has grouped output by 'species'. You can override using the\n",
      "`.groups` argument.\n"
     ]
    }
   ],
   "source": [
    "library(dplyr)\n",
    "seed_dry_mass<-try_reduced_clean %>%\n",
    "group_by(species)%>%\n",
    "summarize(trait_name=\"Seed dry mass\", std_value) "
   ]
  },
  {
   "cell_type": "code",
   "execution_count": 18,
   "id": "c8dba6e6-1fb7-4499-a162-1cdbf1b026ae",
   "metadata": {
    "collapsed": true,
    "jupyter": {
     "outputs_hidden": true
    }
   },
   "outputs": [
    {
     "data": {
      "text/html": [
       "<table class=\"dataframe\">\n",
       "<caption>A grouped_df: 6 × 3</caption>\n",
       "<thead>\n",
       "\t<tr><th scope=col>species</th><th scope=col>trait_name</th><th scope=col>std_value</th></tr>\n",
       "\t<tr><th scope=col>&lt;chr&gt;</th><th scope=col>&lt;chr&gt;</th><th scope=col>&lt;dbl&gt;</th></tr>\n",
       "</thead>\n",
       "<tbody>\n",
       "\t<tr><td>Abies alba</td><td>Seed dry mass</td><td>  0.41</td></tr>\n",
       "\t<tr><td>Abies alba</td><td>Seed dry mass</td><td>140.00</td></tr>\n",
       "\t<tr><td>Abies alba</td><td>Seed dry mass</td><td> 46.77</td></tr>\n",
       "\t<tr><td>Abies alba</td><td>Seed dry mass</td><td> 43.50</td></tr>\n",
       "\t<tr><td>Abies alba</td><td>Seed dry mass</td><td> 44.47</td></tr>\n",
       "\t<tr><td>Abies alba</td><td>Seed dry mass</td><td> 50.00</td></tr>\n",
       "</tbody>\n",
       "</table>\n"
      ],
      "text/latex": [
       "A grouped\\_df: 6 × 3\n",
       "\\begin{tabular}{lll}\n",
       " species & trait\\_name & std\\_value\\\\\n",
       " <chr> & <chr> & <dbl>\\\\\n",
       "\\hline\n",
       "\t Abies alba & Seed dry mass &   0.41\\\\\n",
       "\t Abies alba & Seed dry mass & 140.00\\\\\n",
       "\t Abies alba & Seed dry mass &  46.77\\\\\n",
       "\t Abies alba & Seed dry mass &  43.50\\\\\n",
       "\t Abies alba & Seed dry mass &  44.47\\\\\n",
       "\t Abies alba & Seed dry mass &  50.00\\\\\n",
       "\\end{tabular}\n"
      ],
      "text/markdown": [
       "\n",
       "A grouped_df: 6 × 3\n",
       "\n",
       "| species &lt;chr&gt; | trait_name &lt;chr&gt; | std_value &lt;dbl&gt; |\n",
       "|---|---|---|\n",
       "| Abies alba | Seed dry mass |   0.41 |\n",
       "| Abies alba | Seed dry mass | 140.00 |\n",
       "| Abies alba | Seed dry mass |  46.77 |\n",
       "| Abies alba | Seed dry mass |  43.50 |\n",
       "| Abies alba | Seed dry mass |  44.47 |\n",
       "| Abies alba | Seed dry mass |  50.00 |\n",
       "\n"
      ],
      "text/plain": [
       "  species    trait_name    std_value\n",
       "1 Abies alba Seed dry mass   0.41   \n",
       "2 Abies alba Seed dry mass 140.00   \n",
       "3 Abies alba Seed dry mass  46.77   \n",
       "4 Abies alba Seed dry mass  43.50   \n",
       "5 Abies alba Seed dry mass  44.47   \n",
       "6 Abies alba Seed dry mass  50.00   "
      ]
     },
     "metadata": {},
     "output_type": "display_data"
    }
   ],
   "source": [
    "head(seed_dry_mass)"
   ]
  },
  {
   "cell_type": "code",
   "execution_count": 7,
   "id": "527d8bd6-b74e-4c28-809c-56abc1de89d7",
   "metadata": {},
   "outputs": [
    {
     "ename": "ERROR",
     "evalue": "\u001b[1m\u001b[33mError\u001b[39m in `summarize()`:\u001b[22m\n\u001b[1m\u001b[22m\u001b[36mℹ\u001b[39m In argument: `BIOCLIM1`.\n\u001b[36mℹ\u001b[39m In group 1: `species = \"Abies alba\"`.\n\u001b[1mCaused by error:\u001b[22m\n\u001b[33m!\u001b[39m object 'BIOCLIM1' not found\n",
     "output_type": "error",
     "traceback": [
      "\u001b[1m\u001b[33mError\u001b[39m in `summarize()`:\u001b[22m\n\u001b[1m\u001b[22m\u001b[36mℹ\u001b[39m In argument: `BIOCLIM1`.\n\u001b[36mℹ\u001b[39m In group 1: `species = \"Abies alba\"`.\n\u001b[1mCaused by error:\u001b[22m\n\u001b[33m!\u001b[39m object 'BIOCLIM1' not found\nTraceback:\n",
      "1. summarize(., BIOCLIM1)",
      "2. summarise.grouped_df(., BIOCLIM1)",
      "3. summarise_cols(.data, dplyr_quosures(...), by, \"summarise\")",
      "4. withCallingHandlers({\n .     for (i in seq_along(dots)) {\n .         poke_error_context(dots, i, mask = mask)\n .         context_poke(\"column\", old_current_column)\n .         dot <- dots[[i]]\n .         dot <- expand_pick(dot, mask)\n .         quosures <- expand_across(dot)\n .         quosures_results <- map(quosures, summarise_eval_one, \n .             mask = mask)\n .         for (k in seq_along(quosures)) {\n .             quo <- quosures[[k]]\n .             quo_data <- attr(quo, \"dplyr:::data\")\n .             quo_result <- quosures_results[[k]]\n .             if (is.null(quo_result)) {\n .                 next\n .             }\n .             types_k <- quo_result$types\n .             chunks_k <- quo_result$chunks\n .             results_k <- quo_result$results\n .             if (!quo_data$is_named && is.data.frame(types_k)) {\n .                 chunks_extracted <- .Call(dplyr_extract_chunks, \n .                   chunks_k, types_k)\n .                 types_k_names <- names(types_k)\n .                 for (j in seq_along(chunks_extracted)) {\n .                   mask$add_one(name = types_k_names[j], chunks = chunks_extracted[[j]], \n .                     result = results_k[[j]])\n .                 }\n .                 chunks <- append(chunks, chunks_extracted)\n .                 types <- append(types, as.list(types_k))\n .                 results <- append(results, results_k)\n .                 out_names <- c(out_names, types_k_names)\n .             }\n .             else {\n .                 name <- dplyr_quosure_name(quo_data)\n .                 mask$add_one(name = name, chunks = chunks_k, \n .                   result = results_k)\n .                 chunks <- append(chunks, list(chunks_k))\n .                 types <- append(types, list(types_k))\n .                 results <- append(results, list(results_k))\n .                 out_names <- c(out_names, name)\n .             }\n .         }\n .     }\n .     sizes <- .Call(dplyr_summarise_recycle_chunks_in_place, chunks, \n .         results)\n .     for (i in seq_along(chunks)) {\n .         result <- results[[i]] %||% vec_c(!!!chunks[[i]], .ptype = types[[i]])\n .         cols[[out_names[i]]] <- result\n .     }\n . }, error = function(cnd) {\n .     if (inherits(cnd, \"dplyr:::summarise_incompatible_size\")) {\n .         action <- \"recycle\"\n .         i <- cnd$dplyr_error_data$index\n .     }\n .     else {\n .         action <- \"compute\"\n .         i <- i\n .     }\n .     handler <- dplyr_error_handler(dots = dots, mask = mask, \n .         bullets = summarise_bullets, error_call = error_call, \n .         action = action)\n .     handler(cnd)\n . }, warning = dplyr_warning_handler(state = warnings_state, mask = mask, \n .     error_call = error_call))",
      "5. map(quosures, summarise_eval_one, mask = mask)",
      "6. lapply(.x, .f, ...)",
      "7. FUN(X[[i]], ...)",
      "8. mask$eval_all_summarise(quo)",
      "9. eval()",
      "10. .handleSimpleError(function (cnd) \n  . {\n  .     if (inherits(cnd, \"dplyr:::summarise_incompatible_size\")) {\n  .         action <- \"recycle\"\n  .         i <- cnd$dplyr_error_data$index\n  .     }\n  .     else {\n  .         action <- \"compute\"\n  .         i <- i\n  .     }\n  .     handler <- dplyr_error_handler(dots = dots, mask = mask, \n  .         bullets = summarise_bullets, error_call = error_call, \n  .         action = action)\n  .     handler(cnd)\n  . }, \"object 'BIOCLIM1' not found\", base::quote(eval()))",
      "11. h(simpleError(msg, call))",
      "12. handler(cnd)",
      "13. abort(message, class = error_class, parent = parent, call = error_call)",
      "14. signal_abort(cnd, .file)",
      "15. signalCondition(cnd)"
     ]
    }
   ],
   "source": [
    "library(dplyr)\n",
    "BIOCLIM1<-gbif_bioclim_clean %>%\n",
    "group_by(species)%>%\n",
    "summarize(BIOCLIM1)"
   ]
  },
  {
   "cell_type": "code",
   "execution_count": 2,
   "id": "4ac55be9-499f-41e5-af3b-5083c672cb3b",
   "metadata": {},
   "outputs": [
    {
     "ename": "ERROR",
     "evalue": "Error in parse(text = input): <text>:1:6: unexpected string constant\n1: echo \"Practical_example\"\n         ^\n",
     "output_type": "error",
     "traceback": [
      "Error in parse(text = input): <text>:1:6: unexpected string constant\n1: echo \"Practical_example\"\n         ^\nTraceback:\n"
     ]
    }
   ],
   "source": [
    "echo \"Practical_example\" >> README.md\n",
    "git init\n",
    "git add README.md\n",
    "git commit -m \"first commit\"\n",
    "git branch -M main\n",
    "git remote add origin git@github.com:MichelethGit/Practical_example.git\n",
    "git push -u origin main"
   ]
  },
  {
   "cell_type": "code",
   "execution_count": null,
   "id": "bfbf588f-226d-432d-baf7-919f418d45a8",
   "metadata": {},
   "outputs": [],
   "source": []
  }
 ],
 "metadata": {
  "kernelspec": {
   "display_name": "R",
   "language": "R",
   "name": "ir"
  },
  "language_info": {
   "codemirror_mode": "r",
   "file_extension": ".r",
   "mimetype": "text/x-r-source",
   "name": "R",
   "pygments_lexer": "r",
   "version": "4.1.2"
  }
 },
 "nbformat": 4,
 "nbformat_minor": 5
}
