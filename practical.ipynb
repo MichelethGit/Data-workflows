{
 "cells": [
  {
   "cell_type": "code",
   "execution_count": 5,
   "id": "f503e05c-9bd8-4296-b857-fb41db1b9d8b",
   "metadata": {},
   "outputs": [
    {
     "name": "stdout",
     "output_type": "stream",
     "text": [
      "# Downloading packages -------------------------------------------------------\n",
      "- Downloading renv from CRAN ...                OK [1.2 Mb]\n",
      "Successfully downloaded 1 package in 2 seconds.\n",
      "\n",
      "The following package(s) will be installed:\n",
      "- renv [1.0.11]\n",
      "These packages will be installed into \"/srv/jupyter/student09/renv/library/R-4.1/x86_64-pc-linux-gnu\".\n",
      "\n",
      "# Installing packages --------------------------------------------------------\n",
      "- Installing renv ...                           OK [built from source and cached in 11s]\n",
      "Successfully installed 1 package in 11 seconds.\n"
     ]
    }
   ],
   "source": [
    "install.packages(\"renv\")\n",
    "library(renv)\n",
    "renv::init()"
   ]
  },
  {
   "cell_type": "code",
   "execution_count": 6,
   "id": "1b2b6dbf-379c-436c-bdb8-1150d4e44ae6",
   "metadata": {
    "collapsed": true,
    "jupyter": {
     "outputs_hidden": true
    },
    "scrolled": true
   },
   "outputs": [
    {
     "name": "stdout",
     "output_type": "stream",
     "text": [
      "# Downloading packages -------------------------------------------------------\n",
      "- Downloading curl from CRAN ...                OK [910.9 Kb in 0.15s]\n",
      "- Downloading ragg from CRAN ...                OK [418.9 Kb in 0.11s]\n",
      "Successfully downloaded 2 packages in 1.9 seconds.\n",
      "\n",
      "The following package(s) will be installed:\n",
      "- curl      [6.0.1]\n",
      "- ragg      [1.3.3]\n",
      "- tidyverse [2.0.0]\n",
      "These packages will be installed into \"/srv/jupyter/student09/renv/library/R-4.1/x86_64-pc-linux-gnu\".\n",
      "\n",
      "# Installing packages --------------------------------------------------------\n",
      "- Installing curl ...                           FAILED\n"
     ]
    },
    {
     "ename": "ERROR",
     "evalue": "Error: Error installing package 'curl':\n================================\n\n* installing *source* package ‘curl’ ...\n** package ‘curl’ successfully unpacked and MD5 sums checked\n** using staged installation\nPackage libcurl was not found in the pkg-config search path.\nPerhaps you should add the directory containing `libcurl.pc'\nto the PKG_CONFIG_PATH environment variable\nNo package 'libcurl' found\nPackage libcurl was not found in the pkg-config search path.\nPerhaps you should add the directory containing `libcurl.pc'\nto the PKG_CONFIG_PATH environment variable\nNo package 'libcurl' found\nUsing PKG_CFLAGS=\nUsing PKG_LIBS=-lcurl\n--------------------------- [ANTICONF] --------------------------------\nConfiguration failed because libcurl was not found. Try installing:\n * deb: libcurl4-openssl-dev (Debian, Ubuntu, etc)\n * rpm: libcurl-devel (Fedora, CentOS, RHEL)\nIf libcurl is already installed, check that 'pkg-config' is in your\nPATH and PKG_CONFIG_PATH contains a libcurl.pc file. If pkg-config\nis unavailable you can set INCLUDE_DIR and LIB_DIR manually via:\nR CMD INSTALL --configure-vars='INCLUDE_DIR=... LIB_DIR=...'\n-------------------------- [ERROR MESSAGE] ---------------------------\n<stdin>:1:10: fatal error: curl/curl.h: No such file or directory\ncompilation terminated.\n--------------------------------------------------------------------\nERROR: configuration failed for package ‘curl’\n* removing ‘/srv/jupyter/student09/renv/staging/1/curl’\ninstall of package 'curl' failed [error code 1]\n",
     "output_type": "error",
     "traceback": [
      "Error: Error installing package 'curl':\n================================\n\n* installing *source* package ‘curl’ ...\n** package ‘curl’ successfully unpacked and MD5 sums checked\n** using staged installation\nPackage libcurl was not found in the pkg-config search path.\nPerhaps you should add the directory containing `libcurl.pc'\nto the PKG_CONFIG_PATH environment variable\nNo package 'libcurl' found\nPackage libcurl was not found in the pkg-config search path.\nPerhaps you should add the directory containing `libcurl.pc'\nto the PKG_CONFIG_PATH environment variable\nNo package 'libcurl' found\nUsing PKG_CFLAGS=\nUsing PKG_LIBS=-lcurl\n--------------------------- [ANTICONF] --------------------------------\nConfiguration failed because libcurl was not found. Try installing:\n * deb: libcurl4-openssl-dev (Debian, Ubuntu, etc)\n * rpm: libcurl-devel (Fedora, CentOS, RHEL)\nIf libcurl is already installed, check that 'pkg-config' is in your\nPATH and PKG_CONFIG_PATH contains a libcurl.pc file. If pkg-config\nis unavailable you can set INCLUDE_DIR and LIB_DIR manually via:\nR CMD INSTALL --configure-vars='INCLUDE_DIR=... LIB_DIR=...'\n-------------------------- [ERROR MESSAGE] ---------------------------\n<stdin>:1:10: fatal error: curl/curl.h: No such file or directory\ncompilation terminated.\n--------------------------------------------------------------------\nERROR: configuration failed for package ‘curl’\n* removing ‘/srv/jupyter/student09/renv/staging/1/curl’\ninstall of package 'curl' failed [error code 1]\nTraceback:\n",
      "1. eval(call, envir = parent.frame())",
      "2. eval(call, envir = parent.frame())",
      "3. renv::install(\"tidyverse\")",
      "4. renv_install_impl(records)",
      "5. renv_install_staged(records)",
      "6. renv_install_default(records)",
      "7. handler(package, renv_install_package(record))",
      "8. renv_install_package(record)",
      "9. withCallingHandlers(renv_install_package_impl(record), error = function(e) writef(\"FAILED\"))",
      "10. renv_install_package_impl(record)",
      "11. r_cmd_install(package, path)",
      "12. r_exec_error(package, output, \"install\", status)",
      "13. abort(all)",
      "14. signalCondition(cnd)"
     ]
    }
   ],
   "source": [
    "gbif_bioclim<-read.csv(\"gbif_bioclim.csv\")\n",
    "try_reduced<-read.csv(\"try_reduced.csv\")\n",
    "install.packages(\"tidyverse\")\n",
    "library(tidyverse)"
   ]
  },
  {
   "cell_type": "code",
   "execution_count": null,
   "id": "b42b25e8-5cf3-4dd5-943e-6e1d355e0582",
   "metadata": {},
   "outputs": [],
   "source": [
    "try_reduced_clean<-janitor::clean_names(try_reduced)\n",
    "colnames(try_reduced_clean)[2]<-paste(\"species\")\n",
    "gbif_bioclim_clean<-janitor::clean_names(gbif_bioclim)\n",
    "head(gbif_bioclim_clean)\n",
    "head(try_reduced_clean)"
   ]
  },
  {
   "cell_type": "code",
   "execution_count": null,
   "id": "dd601c97-d7c6-4a3e-935f-3952b191e067",
   "metadata": {
    "scrolled": true
   },
   "outputs": [],
   "source": [
    "library(dplyr)\n",
    "seed_dry_mass<-try_reduced_clean %>%\n",
    "group_by(species)%>%\n",
    "summarize(trait_name=\"Seed dry mass\", std_value) "
   ]
  },
  {
   "cell_type": "code",
   "execution_count": null,
   "id": "c8dba6e6-1fb7-4499-a162-1cdbf1b026ae",
   "metadata": {},
   "outputs": [],
   "source": [
    "head(seed_dry_mass)"
   ]
  },
  {
   "cell_type": "code",
   "execution_count": null,
   "id": "23d6252a-cc45-40f6-b65c-84086370fff3",
   "metadata": {},
   "outputs": [],
   "source": [
    "head(gbif_bioclim_clean)"
   ]
  },
  {
   "cell_type": "code",
   "execution_count": null,
   "id": "527d8bd6-b74e-4c28-809c-56abc1de89d7",
   "metadata": {},
   "outputs": [],
   "source": [
    "library(dplyr)\n",
    "ave_temp<-gbif_bioclim_clean %>%\n",
    "group_by(species)%>%\n",
    "summarize(bio1)"
   ]
  },
  {
   "cell_type": "code",
   "execution_count": null,
   "id": "bfbf588f-226d-432d-baf7-919f418d45a8",
   "metadata": {},
   "outputs": [],
   "source": [
    "joined<-left_join(seed_dry_mass, ave_temp, by=\"species\")"
   ]
  },
  {
   "cell_type": "code",
   "execution_count": null,
   "id": "d00fd246-85db-48f1-a5b2-d18fe54b1224",
   "metadata": {},
   "outputs": [],
   "source": [
    "head(joined)"
   ]
  },
  {
   "cell_type": "code",
   "execution_count": null,
   "id": "1665e9cb-4616-4234-ae61-dfaf91dba9c7",
   "metadata": {},
   "outputs": [],
   "source": [
    "library(ggplot2)\n",
    "ggplot(joined, aes(bio1, std_value)) + geom_point()"
   ]
  },
  {
   "cell_type": "code",
   "execution_count": 9,
   "id": "100dd77a-9755-4e2e-87ac-4fca0b760c31",
   "metadata": {},
   "outputs": [
    {
     "data": {
      "text/plain": [
       "R version 4.1.2 (2021-11-01)\n",
       "Platform: x86_64-pc-linux-gnu (64-bit)\n",
       "Running under: Ubuntu 22.04.5 LTS\n",
       "\n",
       "Matrix products: default\n",
       "BLAS:   /usr/lib/x86_64-linux-gnu/blas/libblas.so.3.10.0\n",
       "LAPACK: /usr/lib/x86_64-linux-gnu/lapack/liblapack.so.3.10.0\n",
       "\n",
       "locale:\n",
       " [1] LC_CTYPE=en_US.UTF-8       LC_NUMERIC=C              \n",
       " [3] LC_TIME=en_US.UTF-8        LC_COLLATE=en_US.UTF-8    \n",
       " [5] LC_MONETARY=en_US.UTF-8    LC_MESSAGES=en_US.UTF-8   \n",
       " [7] LC_PAPER=en_US.UTF-8       LC_NAME=C                 \n",
       " [9] LC_ADDRESS=C               LC_TELEPHONE=C            \n",
       "[11] LC_MEASUREMENT=en_US.UTF-8 LC_IDENTIFICATION=C       \n",
       "\n",
       "attached base packages:\n",
       "[1] stats     graphics  grDevices utils     datasets  methods   base     \n",
       "\n",
       "other attached packages:\n",
       "[1] renv_1.0.11\n",
       "\n",
       "loaded via a namespace (and not attached):\n",
       " [1] fansi_1.0.6       crayon_1.5.3      digest_0.6.37     utf8_1.2.4       \n",
       " [5] IRdisplay_1.1     repr_1.1.7        lifecycle_1.0.4   jsonlite_1.8.9   \n",
       " [9] evaluate_1.0.1    pillar_1.9.0      rlang_1.1.4       cli_3.6.3        \n",
       "[13] uuid_1.2-1        vctrs_0.6.5       IRkernel_1.3.2    tools_4.1.2      \n",
       "[17] glue_1.8.0        fastmap_1.2.0     compiler_4.1.2    base64enc_0.1-3  \n",
       "[21] pbdZMQ_0.3-13     htmltools_0.5.8.1"
      ]
     },
     "metadata": {},
     "output_type": "display_data"
    }
   ],
   "source": [
    "sessionInfo()"
   ]
  },
  {
   "cell_type": "code",
   "execution_count": 8,
   "id": "baa46cbe-eeb5-4e72-9642-f97aa1c4178c",
   "metadata": {},
   "outputs": [
    {
     "name": "stdout",
     "output_type": "stream",
     "text": [
      "The following package(s) have unsatisfied dependencies:\n",
      "- httr      requires curl (>= 5.0.2), but version 4.3.2 is installed\n",
      "- tidyverse requires ragg (>= 1.2.5), but version 1.2.1 is installed\n",
      "Consider updating the required dependencies as appropriate.\n",
      "\n"
     ]
    },
    {
     "ename": "ERROR",
     "evalue": "Error in renv_snapshot_validate_report(valid, prompt, force): aborting snapshot due to pre-flight validation failure\n",
     "output_type": "error",
     "traceback": [
      "Error in renv_snapshot_validate_report(valid, prompt, force): aborting snapshot due to pre-flight validation failure\nTraceback:\n",
      "1. renv_snapshot_validate_report(valid, prompt, force)",
      "2. stop(\"aborting snapshot due to pre-flight validation failure\")",
      "3. .handleSimpleError(function (cnd) \n . {\n .     watcher$capture_plot_and_output()\n .     cnd <- sanitize_call(cnd)\n .     watcher$push(cnd)\n .     switch(on_error, continue = invokeRestart(\"eval_continue\"), \n .         stop = invokeRestart(\"eval_stop\"), error = invokeRestart(\"eval_error\", \n .             cnd))\n . }, \"aborting snapshot due to pre-flight validation failure\", \n .     base::quote(renv_snapshot_validate_report(valid, prompt, \n .         force)))"
     ]
    }
   ],
   "source": [
    "renv::snapshot()"
   ]
  },
  {
   "cell_type": "code",
   "execution_count": null,
   "id": "3ee3a016-12b8-4bfd-81da-7c3bde183813",
   "metadata": {},
   "outputs": [],
   "source": []
  }
 ],
 "metadata": {
  "kernelspec": {
   "display_name": "R",
   "language": "R",
   "name": "ir"
  },
  "language_info": {
   "codemirror_mode": "r",
   "file_extension": ".r",
   "mimetype": "text/x-r-source",
   "name": "R",
   "pygments_lexer": "r",
   "version": "4.1.2"
  }
 },
 "nbformat": 4,
 "nbformat_minor": 5
}
